{
 "cells": [
  {
   "cell_type": "code",
   "execution_count": 26,
   "id": "3b8d5dda",
   "metadata": {},
   "outputs": [],
   "source": [
    "from bs4 import BeautifulSoup\n",
    "import requests\n",
    "import pandas as pd\n",
    "import numpy as np"
   ]
  },
  {
   "cell_type": "code",
   "execution_count": 27,
   "id": "46fe4d15",
   "metadata": {},
   "outputs": [],
   "source": [
    "url = \"https://steamcharts.com/top\"\n",
    "\n",
    "page = requests.get(url)\n",
    "\n",
    "soup = BeautifulSoup(page.text, 'html.parser')\n",
    "\n",
    "table = soup.find_all(\"table\", class_=\"common-table\")"
   ]
  },
  {
   "cell_type": "code",
   "execution_count": 28,
   "id": "eba654d0",
   "metadata": {
    "scrolled": true
   },
   "outputs": [
    {
     "name": "stdout",
     "output_type": "stream",
     "text": [
      "['Counter-Strike 2', 'Dota 2', 'PUBG: BATTLEGROUNDS', 'Apex Legends', 'Grand Theft Auto V', 'NARAKA: BLADEPOINT', 'Wallpaper Engine', 'Team Fortress 2', 'Call of Duty®', \"Baldur's Gate 3\", 'Rust', 'War Thunder', 'Football Manager 2024', 'Lost Ark', 'Destiny 2', 'EA SPORTS FC™ 24', 'Unturned', 'Red Dead Redemption 2', 'Battlefield™ V', \"Sid Meier's Civilization VI\", 'Warframe', 'Lethal Company', 'Dead by Daylight', 'DayZ', 'Spacewar']\n"
     ]
    }
   ],
   "source": [
    "name_data = []\n",
    "\n",
    "game_names: list[BeautifulSoup] = table[0].find_all(\"td\", {\"class\": \"game-name left\"})\n",
    "\n",
    "i = 0\n",
    "\n",
    "for game_name in game_names:\n",
    "    name_data.append(game_name.text.strip())\n",
    "    i += 1\n",
    "    \n",
    "print(name_data)"
   ]
  },
  {
   "cell_type": "code",
   "execution_count": 29,
   "id": "7855d380",
   "metadata": {
    "scrolled": true
   },
   "outputs": [
    {
     "name": "stdout",
     "output_type": "stream",
     "text": [
      "['872,511', '582,676', '293,045', '179,395', '117,705', '103,839', '88,223', '85,314', '81,483', '73,750', '73,477', '68,232', '63,106', '58,662', '56,759', '55,462', '54,634', '53,294', '52,194', '48,989', '48,619', '46,623', '45,210', '45,209', '42,222']\n"
     ]
    }
   ],
   "source": [
    "players_data = []\n",
    "\n",
    "current_players: list[BeautifulSoup] = table[0].select(\"td.num:not([class*=period-col])\")\n",
    "\n",
    "i = 0\n",
    "\n",
    "for current_player in current_players:\n",
    "    formatted_player = '{:,}'.format(int(current_player.text.strip()))\n",
    "    players_data.append(formatted_player)\n",
    "    i += 1\n",
    "    \n",
    "print(players_data)"
   ]
  },
  {
   "cell_type": "code",
   "execution_count": 30,
   "id": "80a3c869",
   "metadata": {},
   "outputs": [
    {
     "name": "stdout",
     "output_type": "stream",
     "text": [
      "['1,161,043', '767,353', '502,374', '438,349', '167,317', '277,089', '132,609', '98,749', '190,273', '202,546', '137,752', '114,806', '86,828', '90,953', '94,423', '68,189', '58,931', '77,335', '114,017', '73,523', '74,457', '184,015', '57,906', '69,372', '57,550']\n"
     ]
    }
   ],
   "source": [
    "peak_data = []\n",
    "\n",
    "peak_current_players: list[BeautifulSoup] = table[0].find_all(\"td\", {\"class\": \"num period-col peak-concurrent\"})\n",
    "\n",
    "i = 0\n",
    "\n",
    "for peak_current_player in peak_current_players:\n",
    "    peak_current_player = '{:,}'.format(int(peak_current_player.text.strip()))\n",
    "    peak_data.append(peak_current_player)\n",
    "    i += 1\n",
    "    \n",
    "print(peak_data)"
   ]
  },
  {
   "cell_type": "code",
   "execution_count": 31,
   "id": "fccf22d6",
   "metadata": {},
   "outputs": [],
   "source": [
    "data = {\n",
    "    \"Name\": name_data,\n",
    "    \"Current Players\": players_data,\n",
    "    \"Peak Current Players\": peak_data\n",
    "}\n",
    "\n",
    "df = pd.DataFrame(data)\n",
    "df.index = np.arange(1, len(df) + 1)"
   ]
  },
  {
   "cell_type": "code",
   "execution_count": 32,
   "id": "c22f9927",
   "metadata": {
    "scrolled": true
   },
   "outputs": [
    {
     "data": {
      "text/html": [
       "<div>\n",
       "<style scoped>\n",
       "    .dataframe tbody tr th:only-of-type {\n",
       "        vertical-align: middle;\n",
       "    }\n",
       "\n",
       "    .dataframe tbody tr th {\n",
       "        vertical-align: top;\n",
       "    }\n",
       "\n",
       "    .dataframe thead th {\n",
       "        text-align: right;\n",
       "    }\n",
       "</style>\n",
       "<table border=\"1\" class=\"dataframe\">\n",
       "  <thead>\n",
       "    <tr style=\"text-align: right;\">\n",
       "      <th></th>\n",
       "      <th>Name</th>\n",
       "      <th>Current Players</th>\n",
       "      <th>Peak Current Players</th>\n",
       "    </tr>\n",
       "  </thead>\n",
       "  <tbody>\n",
       "    <tr>\n",
       "      <th>1</th>\n",
       "      <td>Counter-Strike 2</td>\n",
       "      <td>872,511</td>\n",
       "      <td>1,161,043</td>\n",
       "    </tr>\n",
       "    <tr>\n",
       "      <th>2</th>\n",
       "      <td>Dota 2</td>\n",
       "      <td>582,676</td>\n",
       "      <td>767,353</td>\n",
       "    </tr>\n",
       "    <tr>\n",
       "      <th>3</th>\n",
       "      <td>PUBG: BATTLEGROUNDS</td>\n",
       "      <td>293,045</td>\n",
       "      <td>502,374</td>\n",
       "    </tr>\n",
       "    <tr>\n",
       "      <th>4</th>\n",
       "      <td>Apex Legends</td>\n",
       "      <td>179,395</td>\n",
       "      <td>438,349</td>\n",
       "    </tr>\n",
       "    <tr>\n",
       "      <th>5</th>\n",
       "      <td>Grand Theft Auto V</td>\n",
       "      <td>117,705</td>\n",
       "      <td>167,317</td>\n",
       "    </tr>\n",
       "    <tr>\n",
       "      <th>6</th>\n",
       "      <td>NARAKA: BLADEPOINT</td>\n",
       "      <td>103,839</td>\n",
       "      <td>277,089</td>\n",
       "    </tr>\n",
       "    <tr>\n",
       "      <th>7</th>\n",
       "      <td>Wallpaper Engine</td>\n",
       "      <td>88,223</td>\n",
       "      <td>132,609</td>\n",
       "    </tr>\n",
       "    <tr>\n",
       "      <th>8</th>\n",
       "      <td>Team Fortress 2</td>\n",
       "      <td>85,314</td>\n",
       "      <td>98,749</td>\n",
       "    </tr>\n",
       "    <tr>\n",
       "      <th>9</th>\n",
       "      <td>Call of Duty®</td>\n",
       "      <td>81,483</td>\n",
       "      <td>190,273</td>\n",
       "    </tr>\n",
       "    <tr>\n",
       "      <th>10</th>\n",
       "      <td>Baldur's Gate 3</td>\n",
       "      <td>73,750</td>\n",
       "      <td>202,546</td>\n",
       "    </tr>\n",
       "    <tr>\n",
       "      <th>11</th>\n",
       "      <td>Rust</td>\n",
       "      <td>73,477</td>\n",
       "      <td>137,752</td>\n",
       "    </tr>\n",
       "    <tr>\n",
       "      <th>12</th>\n",
       "      <td>War Thunder</td>\n",
       "      <td>68,232</td>\n",
       "      <td>114,806</td>\n",
       "    </tr>\n",
       "    <tr>\n",
       "      <th>13</th>\n",
       "      <td>Football Manager 2024</td>\n",
       "      <td>63,106</td>\n",
       "      <td>86,828</td>\n",
       "    </tr>\n",
       "    <tr>\n",
       "      <th>14</th>\n",
       "      <td>Lost Ark</td>\n",
       "      <td>58,662</td>\n",
       "      <td>90,953</td>\n",
       "    </tr>\n",
       "    <tr>\n",
       "      <th>15</th>\n",
       "      <td>Destiny 2</td>\n",
       "      <td>56,759</td>\n",
       "      <td>94,423</td>\n",
       "    </tr>\n",
       "    <tr>\n",
       "      <th>16</th>\n",
       "      <td>EA SPORTS FC™ 24</td>\n",
       "      <td>55,462</td>\n",
       "      <td>68,189</td>\n",
       "    </tr>\n",
       "    <tr>\n",
       "      <th>17</th>\n",
       "      <td>Unturned</td>\n",
       "      <td>54,634</td>\n",
       "      <td>58,931</td>\n",
       "    </tr>\n",
       "    <tr>\n",
       "      <th>18</th>\n",
       "      <td>Red Dead Redemption 2</td>\n",
       "      <td>53,294</td>\n",
       "      <td>77,335</td>\n",
       "    </tr>\n",
       "    <tr>\n",
       "      <th>19</th>\n",
       "      <td>Battlefield™ V</td>\n",
       "      <td>52,194</td>\n",
       "      <td>114,017</td>\n",
       "    </tr>\n",
       "    <tr>\n",
       "      <th>20</th>\n",
       "      <td>Sid Meier's Civilization VI</td>\n",
       "      <td>48,989</td>\n",
       "      <td>73,523</td>\n",
       "    </tr>\n",
       "    <tr>\n",
       "      <th>21</th>\n",
       "      <td>Warframe</td>\n",
       "      <td>48,619</td>\n",
       "      <td>74,457</td>\n",
       "    </tr>\n",
       "    <tr>\n",
       "      <th>22</th>\n",
       "      <td>Lethal Company</td>\n",
       "      <td>46,623</td>\n",
       "      <td>184,015</td>\n",
       "    </tr>\n",
       "    <tr>\n",
       "      <th>23</th>\n",
       "      <td>Dead by Daylight</td>\n",
       "      <td>45,210</td>\n",
       "      <td>57,906</td>\n",
       "    </tr>\n",
       "    <tr>\n",
       "      <th>24</th>\n",
       "      <td>DayZ</td>\n",
       "      <td>45,209</td>\n",
       "      <td>69,372</td>\n",
       "    </tr>\n",
       "    <tr>\n",
       "      <th>25</th>\n",
       "      <td>Spacewar</td>\n",
       "      <td>42,222</td>\n",
       "      <td>57,550</td>\n",
       "    </tr>\n",
       "  </tbody>\n",
       "</table>\n",
       "</div>"
      ],
      "text/plain": [
       "                           Name Current Players Peak Current Players\n",
       "1              Counter-Strike 2         872,511            1,161,043\n",
       "2                        Dota 2         582,676              767,353\n",
       "3           PUBG: BATTLEGROUNDS         293,045              502,374\n",
       "4                  Apex Legends         179,395              438,349\n",
       "5            Grand Theft Auto V         117,705              167,317\n",
       "6            NARAKA: BLADEPOINT         103,839              277,089\n",
       "7              Wallpaper Engine          88,223              132,609\n",
       "8               Team Fortress 2          85,314               98,749\n",
       "9                 Call of Duty®          81,483              190,273\n",
       "10              Baldur's Gate 3          73,750              202,546\n",
       "11                         Rust          73,477              137,752\n",
       "12                  War Thunder          68,232              114,806\n",
       "13        Football Manager 2024          63,106               86,828\n",
       "14                     Lost Ark          58,662               90,953\n",
       "15                    Destiny 2          56,759               94,423\n",
       "16             EA SPORTS FC™ 24          55,462               68,189\n",
       "17                     Unturned          54,634               58,931\n",
       "18        Red Dead Redemption 2          53,294               77,335\n",
       "19               Battlefield™ V          52,194              114,017\n",
       "20  Sid Meier's Civilization VI          48,989               73,523\n",
       "21                     Warframe          48,619               74,457\n",
       "22               Lethal Company          46,623              184,015\n",
       "23             Dead by Daylight          45,210               57,906\n",
       "24                         DayZ          45,209               69,372\n",
       "25                     Spacewar          42,222               57,550"
      ]
     },
     "execution_count": 32,
     "metadata": {},
     "output_type": "execute_result"
    }
   ],
   "source": [
    "df"
   ]
  },
  {
   "cell_type": "code",
   "execution_count": 8,
   "id": "e1541f78",
   "metadata": {},
   "outputs": [],
   "source": [
    "df.to_json('output_file.json', orient='records', lines=True)"
   ]
  },
  {
   "cell_type": "code",
   "execution_count": null,
   "id": "9023be32",
   "metadata": {},
   "outputs": [],
   "source": []
  }
 ],
 "metadata": {
  "kernelspec": {
   "display_name": "Python 3 (ipykernel)",
   "language": "python",
   "name": "python3"
  },
  "language_info": {
   "codemirror_mode": {
    "name": "ipython",
    "version": 3
   },
   "file_extension": ".py",
   "mimetype": "text/x-python",
   "name": "python",
   "nbconvert_exporter": "python",
   "pygments_lexer": "ipython3",
   "version": "3.11.4"
  }
 },
 "nbformat": 4,
 "nbformat_minor": 5
}
